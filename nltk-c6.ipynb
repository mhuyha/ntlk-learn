{
 "cells": [
  {
   "cell_type": "code",
   "execution_count": 2,
   "metadata": {
    "collapsed": false
   },
   "outputs": [
    {
     "data": {
      "text/plain": [
       "{'last_letter': 'h'}"
      ]
     },
     "execution_count": 2,
     "metadata": {},
     "output_type": "execute_result"
    }
   ],
   "source": [
    "def gender_features(word):\n",
    "    return {'last_letter':word[-1]}\n",
    "gender_features(\"Minh\")\n"
   ]
  },
  {
   "cell_type": "code",
   "execution_count": 3,
   "metadata": {
    "collapsed": false
   },
   "outputs": [
    {
     "name": "stdout",
     "output_type": "stream",
     "text": [
      "Pretty printing has been turned OFF\n"
     ]
    }
   ],
   "source": [
    "from nltk.corpus import names\n",
    "import nltk\n",
    "import random\n",
    "%pprint\n",
    "labeled_names = ([(name,'male') for name in names.words('male.txt')] + [(name, 'female') for name in names.words('female.txt')])"
   ]
  },
  {
   "cell_type": "code",
   "execution_count": 4,
   "metadata": {
    "collapsed": false
   },
   "outputs": [],
   "source": [
    "random.shuffle(labeled_names)\n"
   ]
  },
  {
   "cell_type": "code",
   "execution_count": 5,
   "metadata": {
    "collapsed": true
   },
   "outputs": [],
   "source": [
    "featuresets = [(gender_features(n), gender) for (n, gender) in labeled_names]\n",
    "train_set, test_set = featuresets[500:], featuresets[:500]\n",
    "classifier = nltk.NaiveBayesClassifier.train(train_set)"
   ]
  },
  {
   "cell_type": "code",
   "execution_count": 10,
   "metadata": {
    "collapsed": false
   },
   "outputs": [
    {
     "data": {
      "text/plain": [
       "'male'"
      ]
     },
     "execution_count": 10,
     "metadata": {},
     "output_type": "execute_result"
    }
   ],
   "source": [
    "classifier.classify(gender_features('eric'))"
   ]
  },
  {
   "cell_type": "code",
   "execution_count": 11,
   "metadata": {
    "collapsed": false
   },
   "outputs": [
    {
     "name": "stdout",
     "output_type": "stream",
     "text": [
      "0.754\n"
     ]
    }
   ],
   "source": [
    "print(nltk.classify.accuracy(classifier, test_set))"
   ]
  },
  {
   "cell_type": "code",
   "execution_count": 12,
   "metadata": {
    "collapsed": false
   },
   "outputs": [
    {
     "data": {
      "text/plain": [
       "{'count(u)': 0, 'last_name': 'h', 'count(b)': 0, 'count(w)': 0, 'has(b)': False, 'count(l)': 0, 'count(q)': 0, 'count(n)': 1, 'has(j)': False, 'has(d)': False, 'count(h)': 1, 'has(h)': True, 'has(y)': False, 'count(j)': 0, 'has(f)': False, 'has(o)': False, 'count(x)': 0, 'has(m)': True, 'count(z)': 0, 'has(k)': False, 'has(u)': False, 'count(d)': 0, 'has(t)': False, 'has(s)': False, 'count(f)': 0, 'has(q)': False, 'has(w)': False, 'has(e)': False, 'has(z)': False, 'count(t)': 0, 'count(c)': 0, 'has(c)': False, 'has(x)': False, 'count(v)': 0, 'count(m)': 1, 'has(a)': False, 'has(v)': False, 'count(p)': 0, 'count(o)': 0, 'first_letter': 'm', 'has(i)': True, 'count(i)': 1, 'has(r)': False, 'has(g)': False, 'count(k)': 0, 'count(y)': 0, 'has(n)': True, 'has(l)': False, 'count(e)': 0, 'count(s)': 0, 'count(g)': 0, 'count(r)': 0, 'count(a)': 0, 'has(p)': False}"
      ]
     },
     "execution_count": 12,
     "metadata": {},
     "output_type": "execute_result"
    }
   ],
   "source": [
    "def gender_features2(name):\n",
    "    features = {}\n",
    "    features[\"first_letter\"] = name[0].lower()\n",
    "    features[\"last_name\"] = name[-1].lower()\n",
    "    for letter in 'abcdefghijklmnopqrstuvwxyz':\n",
    "        features[\"count({})\".format(letter)] = name.lower().count(letter)\n",
    "        features[\"has({})\".format(letter)] = (letter in name.lower())\n",
    "    return features\n",
    "\n",
    "gender_features2(\"Minh\")"
   ]
  },
  {
   "cell_type": "code",
   "execution_count": 15,
   "metadata": {
    "collapsed": false
   },
   "outputs": [],
   "source": [
    "train_names = labeled_names[1500:]\n",
    "devtest_names = labeled_names[500:1500]\n",
    "test_names = labeled_names[:500]"
   ]
  },
  {
   "cell_type": "code",
   "execution_count": 17,
   "metadata": {
    "collapsed": false
   },
   "outputs": [
    {
     "name": "stdout",
     "output_type": "stream",
     "text": [
      "0.758\n"
     ]
    }
   ],
   "source": [
    "train_set = [(gender_features(n), gender) for (n, gender) in train_names]\n",
    "devtest_set = [(gender_features(n), gender) for (n, gender) in devtest_names]\n",
    "test_set = [(gender_features(n), gender) for (n, gender) in test_names]\n",
    "\n",
    "classifier = nltk.NaiveBayesClassifier.train(train_set)\n",
    "\n",
    "print(nltk.classify.accuracy(classifier, devtest_set))"
   ]
  },
  {
   "cell_type": "code",
   "execution_count": null,
   "metadata": {
    "collapsed": true
   },
   "outputs": [],
   "source": [
    "errors = []\n",
    "for (name, tag) in devtest_names:\n",
    "    guess = classifier.classify(gender_features(name))\n",
    "    if guess != tag:\n",
    "        errors.append((tag, guess, name))\n",
    "        "
   ]
  },
  {
   "cell_type": "code",
   "execution_count": 18,
   "metadata": {
    "collapsed": true
   },
   "outputs": [],
   "source": [
    "guess = classifier.classify(gender_features(\"Minh\"))"
   ]
  },
  {
   "cell_type": "code",
   "execution_count": 1,
   "metadata": {
    "collapsed": false
   },
   "outputs": [],
   "source": [
    "from nltk.corpus import movie_reviews\n",
    "\n",
    "\n",
    "documents = [(list(movie_reviews.words(fileid)), category)\n",
    "             for category in movie_reviews.categories()\n",
    "             for fileid in movie_reviews.fileids(category)]\n"
   ]
  },
  {
   "cell_type": "code",
   "execution_count": 4,
   "metadata": {
    "collapsed": false
   },
   "outputs": [
    {
     "data": {
      "text/plain": [
       "([u'the',\n",
       "  u'happy',\n",
       "  u'bastard',\n",
       "  u\"'\",\n",
       "  u's',\n",
       "  u'quick',\n",
       "  u'movie',\n",
       "  u'review',\n",
       "  u'damn',\n",
       "  u'that',\n",
       "  u'y2k',\n",
       "  u'bug',\n",
       "  u'.',\n",
       "  u'it',\n",
       "  u\"'\",\n",
       "  u's',\n",
       "  u'got',\n",
       "  u'a',\n",
       "  u'head',\n",
       "  u'start',\n",
       "  u'in',\n",
       "  u'this',\n",
       "  u'movie',\n",
       "  u'starring',\n",
       "  u'jamie',\n",
       "  u'lee',\n",
       "  u'curtis',\n",
       "  u'and',\n",
       "  u'another',\n",
       "  u'baldwin',\n",
       "  u'brother',\n",
       "  u'(',\n",
       "  u'william',\n",
       "  u'this',\n",
       "  u'time',\n",
       "  u')',\n",
       "  u'in',\n",
       "  u'a',\n",
       "  u'story',\n",
       "  u'regarding',\n",
       "  u'a',\n",
       "  u'crew',\n",
       "  u'of',\n",
       "  u'a',\n",
       "  u'tugboat',\n",
       "  u'that',\n",
       "  u'comes',\n",
       "  u'across',\n",
       "  u'a',\n",
       "  u'deserted',\n",
       "  u'russian',\n",
       "  u'tech',\n",
       "  u'ship',\n",
       "  u'that',\n",
       "  u'has',\n",
       "  u'a',\n",
       "  u'strangeness',\n",
       "  u'to',\n",
       "  u'it',\n",
       "  u'when',\n",
       "  u'they',\n",
       "  u'kick',\n",
       "  u'the',\n",
       "  u'power',\n",
       "  u'back',\n",
       "  u'on',\n",
       "  u'.',\n",
       "  u'little',\n",
       "  u'do',\n",
       "  u'they',\n",
       "  u'know',\n",
       "  u'the',\n",
       "  u'power',\n",
       "  u'within',\n",
       "  u'.',\n",
       "  u'.',\n",
       "  u'.',\n",
       "  u'going',\n",
       "  u'for',\n",
       "  u'the',\n",
       "  u'gore',\n",
       "  u'and',\n",
       "  u'bringing',\n",
       "  u'on',\n",
       "  u'a',\n",
       "  u'few',\n",
       "  u'action',\n",
       "  u'sequences',\n",
       "  u'here',\n",
       "  u'and',\n",
       "  u'there',\n",
       "  u',',\n",
       "  u'virus',\n",
       "  u'still',\n",
       "  u'feels',\n",
       "  u'very',\n",
       "  u'empty',\n",
       "  u',',\n",
       "  u'like',\n",
       "  u'a',\n",
       "  u'movie',\n",
       "  u'going',\n",
       "  u'for',\n",
       "  u'all',\n",
       "  u'flash',\n",
       "  u'and',\n",
       "  u'no',\n",
       "  u'substance',\n",
       "  u'.',\n",
       "  u'we',\n",
       "  u'don',\n",
       "  u\"'\",\n",
       "  u't',\n",
       "  u'know',\n",
       "  u'why',\n",
       "  u'the',\n",
       "  u'crew',\n",
       "  u'was',\n",
       "  u'really',\n",
       "  u'out',\n",
       "  u'in',\n",
       "  u'the',\n",
       "  u'middle',\n",
       "  u'of',\n",
       "  u'nowhere',\n",
       "  u',',\n",
       "  u'we',\n",
       "  u'don',\n",
       "  u\"'\",\n",
       "  u't',\n",
       "  u'know',\n",
       "  u'the',\n",
       "  u'origin',\n",
       "  u'of',\n",
       "  u'what',\n",
       "  u'took',\n",
       "  u'over',\n",
       "  u'the',\n",
       "  u'ship',\n",
       "  u'(',\n",
       "  u'just',\n",
       "  u'that',\n",
       "  u'a',\n",
       "  u'big',\n",
       "  u'pink',\n",
       "  u'flashy',\n",
       "  u'thing',\n",
       "  u'hit',\n",
       "  u'the',\n",
       "  u'mir',\n",
       "  u')',\n",
       "  u',',\n",
       "  u'and',\n",
       "  u',',\n",
       "  u'of',\n",
       "  u'course',\n",
       "  u',',\n",
       "  u'we',\n",
       "  u'don',\n",
       "  u\"'\",\n",
       "  u't',\n",
       "  u'know',\n",
       "  u'why',\n",
       "  u'donald',\n",
       "  u'sutherland',\n",
       "  u'is',\n",
       "  u'stumbling',\n",
       "  u'around',\n",
       "  u'drunkenly',\n",
       "  u'throughout',\n",
       "  u'.',\n",
       "  u'here',\n",
       "  u',',\n",
       "  u'it',\n",
       "  u\"'\",\n",
       "  u's',\n",
       "  u'just',\n",
       "  u'\"',\n",
       "  u'hey',\n",
       "  u',',\n",
       "  u'let',\n",
       "  u\"'\",\n",
       "  u's',\n",
       "  u'chase',\n",
       "  u'these',\n",
       "  u'people',\n",
       "  u'around',\n",
       "  u'with',\n",
       "  u'some',\n",
       "  u'robots',\n",
       "  u'\"',\n",
       "  u'.',\n",
       "  u'the',\n",
       "  u'acting',\n",
       "  u'is',\n",
       "  u'below',\n",
       "  u'average',\n",
       "  u',',\n",
       "  u'even',\n",
       "  u'from',\n",
       "  u'the',\n",
       "  u'likes',\n",
       "  u'of',\n",
       "  u'curtis',\n",
       "  u'.',\n",
       "  u'you',\n",
       "  u\"'\",\n",
       "  u're',\n",
       "  u'more',\n",
       "  u'likely',\n",
       "  u'to',\n",
       "  u'get',\n",
       "  u'a',\n",
       "  u'kick',\n",
       "  u'out',\n",
       "  u'of',\n",
       "  u'her',\n",
       "  u'work',\n",
       "  u'in',\n",
       "  u'halloween',\n",
       "  u'h20',\n",
       "  u'.',\n",
       "  u'sutherland',\n",
       "  u'is',\n",
       "  u'wasted',\n",
       "  u'and',\n",
       "  u'baldwin',\n",
       "  u',',\n",
       "  u'well',\n",
       "  u',',\n",
       "  u'he',\n",
       "  u\"'\",\n",
       "  u's',\n",
       "  u'acting',\n",
       "  u'like',\n",
       "  u'a',\n",
       "  u'baldwin',\n",
       "  u',',\n",
       "  u'of',\n",
       "  u'course',\n",
       "  u'.',\n",
       "  u'the',\n",
       "  u'real',\n",
       "  u'star',\n",
       "  u'here',\n",
       "  u'are',\n",
       "  u'stan',\n",
       "  u'winston',\n",
       "  u\"'\",\n",
       "  u's',\n",
       "  u'robot',\n",
       "  u'design',\n",
       "  u',',\n",
       "  u'some',\n",
       "  u'schnazzy',\n",
       "  u'cgi',\n",
       "  u',',\n",
       "  u'and',\n",
       "  u'the',\n",
       "  u'occasional',\n",
       "  u'good',\n",
       "  u'gore',\n",
       "  u'shot',\n",
       "  u',',\n",
       "  u'like',\n",
       "  u'picking',\n",
       "  u'into',\n",
       "  u'someone',\n",
       "  u\"'\",\n",
       "  u's',\n",
       "  u'brain',\n",
       "  u'.',\n",
       "  u'so',\n",
       "  u',',\n",
       "  u'if',\n",
       "  u'robots',\n",
       "  u'and',\n",
       "  u'body',\n",
       "  u'parts',\n",
       "  u'really',\n",
       "  u'turn',\n",
       "  u'you',\n",
       "  u'on',\n",
       "  u',',\n",
       "  u'here',\n",
       "  u\"'\",\n",
       "  u's',\n",
       "  u'your',\n",
       "  u'movie',\n",
       "  u'.',\n",
       "  u'otherwise',\n",
       "  u',',\n",
       "  u'it',\n",
       "  u\"'\",\n",
       "  u's',\n",
       "  u'pretty',\n",
       "  u'much',\n",
       "  u'a',\n",
       "  u'sunken',\n",
       "  u'ship',\n",
       "  u'of',\n",
       "  u'a',\n",
       "  u'movie',\n",
       "  u'.'],\n",
       " u'neg')"
      ]
     },
     "execution_count": 4,
     "metadata": {},
     "output_type": "execute_result"
    }
   ],
   "source": [
    "documents[1]"
   ]
  }
 ],
 "metadata": {
  "kernelspec": {
   "display_name": "Python 2",
   "language": "python",
   "name": "python2"
  },
  "language_info": {
   "codemirror_mode": {
    "name": "ipython",
    "version": 2
   },
   "file_extension": ".py",
   "mimetype": "text/x-python",
   "name": "python",
   "nbconvert_exporter": "python",
   "pygments_lexer": "ipython2",
   "version": "2.7.9"
  }
 },
 "nbformat": 4,
 "nbformat_minor": 0
}
